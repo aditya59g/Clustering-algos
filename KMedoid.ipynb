{
 "cells": [
  {
   "cell_type": "code",
   "execution_count": 16,
   "metadata": {},
   "outputs": [],
   "source": [
    "import pandas as pd\n",
    "import numpy as np\n",
    "import matplotlib.pyplot as plt\n",
    "import math"
   ]
  },
  {
   "cell_type": "markdown",
   "metadata": {},
   "source": [
    "#### Read Data"
   ]
  },
  {
   "cell_type": "code",
   "execution_count": 17,
   "metadata": {
    "scrolled": false
   },
   "outputs": [
    {
     "name": "stdout",
     "output_type": "stream",
     "text": [
      "569 30\n"
     ]
    }
   ],
   "source": [
    "data = pd.read_csv('D:\\FirstSemMT\\ML\\Assignments\\cancer.csv')\n",
    "data.drop(['id','diagnosis','Unnamed: 32'], axis = 1, inplace = True) \n",
    "data = data.values\n",
    "samples,features = data.shape\n",
    "print(samples,features)"
   ]
  },
  {
   "cell_type": "markdown",
   "metadata": {},
   "source": [
    "#### Cost function  "
   ]
  },
  {
   "cell_type": "code",
   "execution_count": 18,
   "metadata": {},
   "outputs": [],
   "source": [
    "def calculate_cost(m1,m2):\n",
    "    cost = 0\n",
    "    cluster_label = np.zeros(samples)\n",
    "    for i in range(samples):\n",
    "        d1 = np.linalg.norm(data[i] - m1,axis=0,ord=1)\n",
    "        d2 = np.linalg.norm(data[i] - m2,axis=0,ord=1)\n",
    "        if(d1<=d2):\n",
    "            cluster_label[i]=1\n",
    "            cost += d1\n",
    "        else:\n",
    "            cluster_label[i]=2\n",
    "            cost += d2\n",
    "    return cluster_label,cost"
   ]
  },
  {
   "cell_type": "markdown",
   "metadata": {},
   "source": [
    "#### Initialize medoids randomly from data.  "
   ]
  },
  {
   "cell_type": "code",
   "execution_count": 19,
   "metadata": {
    "scrolled": false
   },
   "outputs": [
    {
     "name": "stdout",
     "output_type": "stream",
     "text": [
      "[435] [71]\n"
     ]
    }
   ],
   "source": [
    "k=2\n",
    "np.random.seed(1000)\n",
    "r1 = np.random.randint(samples, size=1)\n",
    "r2 = np.random.randint(samples, size=1)\n",
    "med1 = data[r1[0],:]\n",
    "med2 = data[r2[0],:]\n",
    "print(r1,r2)"
   ]
  },
  {
   "cell_type": "markdown",
   "metadata": {},
   "source": [
    "#### Associate each data point to the closest medoid and computing cost of it."
   ]
  },
  {
   "cell_type": "code",
   "execution_count": 20,
   "metadata": {},
   "outputs": [],
   "source": [
    "cluster_label,cost = calculate_cost(med1,med2)"
   ]
  },
  {
   "cell_type": "markdown",
   "metadata": {},
   "source": [
    "#### Compute the cost of non medoid data points by replacing it with respective medoids. If cost of it is lesser than earlier then assign that data point as medoid. Repeat until best cost found."
   ]
  },
  {
   "cell_type": "code",
   "execution_count": 21,
   "metadata": {},
   "outputs": [
    {
     "name": "stdout",
     "output_type": "stream",
     "text": [
      "353088.49592939985\n",
      "308786.0037724005\n",
      "240256.21020440003\n",
      "231900.80712539988\n"
     ]
    }
   ],
   "source": [
    "while(1):\n",
    "    print(cost)\n",
    "    current_min_cost = math.inf\n",
    "    idx = -1\n",
    "    repl = -1\n",
    "    for i in range(samples):\n",
    "        if(cluster_label[i]==1):\n",
    "            _, current_cost = calculate_cost(data[i,:],med2)\n",
    "            if(current_cost<current_min_cost):\n",
    "                current_min_cost = current_cost\n",
    "                idx=i\n",
    "                repl=1\n",
    "\n",
    "    for i in range(samples):\n",
    "        if(cluster_label[i]==2):\n",
    "            _, current_cost = calculate_cost(med1,data[i,:])\n",
    "            if(current_cost<current_min_cost):\n",
    "                current_min_cost = current_cost\n",
    "                idx=i\n",
    "                repl=2\n",
    "\n",
    "    if(current_min_cost<cost):\n",
    "        if(repl==1):\n",
    "            med1=data[idx,:]\n",
    "            cluster_label, cost = calculate_cost(med1,med2)\n",
    "        elif(repl==2):\n",
    "            med2=data[idx,:]\n",
    "            cluster_label, cost = calculate_cost(med1,med2)\n",
    "    else:\n",
    "        break"
   ]
  },
  {
   "cell_type": "markdown",
   "metadata": {},
   "source": [
    "#### Number of points in clusters "
   ]
  },
  {
   "cell_type": "code",
   "execution_count": 22,
   "metadata": {},
   "outputs": [
    {
     "name": "stdout",
     "output_type": "stream",
     "text": [
      "Number of points in cluster 1 : 140\n",
      "Number of points in cluster 2 : 429\n"
     ]
    }
   ],
   "source": [
    "cluster1_data = np.where(cluster_label==1)[0].shape[0]\n",
    "print('Number of points in cluster 1 :' ,cluster1_data)\n",
    "cluster2_data = np.where(cluster_label==2)[0].shape[0]\n",
    "print('Number of points in cluster 2 :' ,cluster2_data)"
   ]
  },
  {
   "cell_type": "markdown",
   "metadata": {},
   "source": [
    "#### Plotting function "
   ]
  },
  {
   "cell_type": "code",
   "execution_count": null,
   "metadata": {},
   "outputs": [],
   "source": [
    "# def plot_cluster(cluster_label,m1,m2):\n",
    "#     fig = plt.gcf()\n",
    "#     plt.scatter(m1[0],m1[1],color='r',s=50,label='Centroid 1')\n",
    "#     plt.scatter(m2[0],m2[1],color='black',s=50,label='Centroid 2')\n",
    "#     plt.scatter(data[np.where(cluster_label==1)[0],0],data[np.where(cluster_label==1)[0],1],label='Cluster 1')\n",
    "#     plt.scatter(data[np.where(cluster_label==2)[0],0],data[np.where(cluster_label==2)[0],1],label='Cluster 2')\n",
    "#     fig.set_size_inches(18.5, 10.5)\n",
    "#     plt.legend()\n",
    "#     plt.show()"
   ]
  },
  {
   "cell_type": "markdown",
   "metadata": {},
   "source": [
    "#### Scatter plot"
   ]
  },
  {
   "cell_type": "code",
   "execution_count": 23,
   "metadata": {
    "scrolled": false
   },
   "outputs": [
    {
     "data": {
      "image/png": "[encoded data removed]",
      "text/plain": [
       "<Figure size 900x612 with 1 Axes>"
      ]
     },
     "metadata": {
      "needs_background": "light"
     },
     "output_type": "display_data"
    }
   ],
   "source": [
    "fig = plt.gcf()\n",
    "plt.scatter(med1[0],med1[1],color='r',s=100,label='Centroid 1')\n",
    "plt.scatter(med2[0],med2[1],color='black',s=100,label='Centroid 2')\n",
    "plt.scatter(data[np.where(cluster_label==1)[0],0],data[np.where(cluster_label==1)[0],1],label='Cluster 1')\n",
    "plt.scatter(data[np.where(cluster_label==2)[0],0],data[np.where(cluster_label==2)[0],1],label='Cluster 2')\n",
    "fig.set_size_inches(12.5, 8.5)\n",
    "plt.legend()\n",
    "plt.xlabel('Radius Mean')\n",
    "plt.ylabel('Texture Mean')\n",
    "plt.show()"
   ]
  }
 ],
 "metadata": {
  "kernelspec": {
   "display_name": "Python 3",
   "language": "python",
   "name": "python3"
  },
  "language_info": {
   "codemirror_mode": {
    "name": "ipython",
    "version": 3
   },
   "file_extension": ".py",
   "mimetype": "text/x-python",
   "name": "python",
   "nbconvert_exporter": "python",
   "pygments_lexer": "ipython3",
   "version": "3.7.6"
  }
 },
 "nbformat": 4,
 "nbformat_minor": 4
}
